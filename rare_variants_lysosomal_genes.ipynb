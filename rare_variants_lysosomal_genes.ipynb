{
 "cells": [
  {
   "cell_type": "markdown",
   "metadata": {},
   "source": [
    "# Set up libraries"
   ]
  },
  {
   "cell_type": "code",
   "execution_count": null,
   "metadata": {
    "code_folding": [],
    "scrolled": true
   },
   "outputs": [],
   "source": [
    "import os\n",
    "import pandas as pd\n",
    "pd.options.mode.chained_assignment = None\n",
    "from firecloud import api as fapi\n",
    "from google.cloud import bigquery"
   ]
  },
  {
   "cell_type": "markdown",
   "metadata": {},
   "source": [
    "# Set up billing project and data path variables"
   ]
  },
  {
   "cell_type": "code",
   "execution_count": null,
   "metadata": {
    "scrolled": true
   },
   "outputs": [],
   "source": [
    "BILLING_PROJECT_ID = os.environ['GOOGLE_PROJECT']\n",
    "WORKSPACE_NAMESPACE = os.environ['WORKSPACE_NAMESPACE']\n",
    "WORKSPACE_NAME = os.environ['WORKSPACE_NAME']\n",
    "WORKSPACE_BUCKET = os.environ['WORKSPACE_BUCKET']\n",
    "\n",
    "WORKSPACE_ATTRIBUTES = fapi.get_workspace(WORKSPACE_NAMESPACE, WORKSPACE_NAME).json().get('workspace',{}).get('attributes',{})\n",
    "\n",
    "GS_RELEASE_PATH = 'gs://amp-pd-data/releases/2020_v2release_1218'\n",
    "GS_CLINICAL_RELEASE_PATH = f'{GS_RELEASE_PATH}/clinical'\n",
    "\n",
    "GS_WGS_RELEASE_PATH = 'gs://amp-pd-genomics/releases/2020_v2release_1218/wgs'\n",
    "GS_WGS_RELEASE_PLINK_PATH = os.path.join(GS_WGS_RELEASE_PATH, 'plink')\n",
    "GS_WGS_RELEASE_GATK_PATH = os.path.join(GS_WGS_RELEASE_PATH, 'gatk')\n",
    "\n",
    "BQ_RELEASE_DATASET = 'amp-pd-research.2020_v2release_1218'\n",
    "\n",
    "\n",
    "print(BILLING_PROJECT_ID)\n",
    "print(GS_CLINICAL_RELEASE_PATH)\n",
    "print(GS_WGS_RELEASE_PLINK_PATH)\n",
    "print(GS_WGS_RELEASE_GATK_PATH)"
   ]
  },
  {
   "cell_type": "markdown",
   "metadata": {},
   "source": [
    "# Useful functions"
   ]
  },
  {
   "cell_type": "code",
   "execution_count": null,
   "metadata": {
    "code_folding": [],
    "scrolled": true
   },
   "outputs": [],
   "source": [
    "def bq_query(query):\n",
    "    \"\"\"Return the contents of a query against BigQuery\"\"\"\n",
    "    return pd.read_gbq(\n",
    "        query,\n",
    "        project_id=BILLING_PROJECT_ID,\n",
    "        dialect='standard')"
   ]
  },
  {
   "cell_type": "markdown",
   "metadata": {},
   "source": [
    "# Querying Clinical Data"
   ]
  },
  {
   "cell_type": "code",
   "execution_count": null,
   "metadata": {
    "scrolled": false
   },
   "outputs": [],
   "source": [
    "clinical_tables = f\"\"\"\n",
    "SELECT \n",
    "project_id, dataset_id, table_id, row_count, size_bytes \n",
    "FROM `{BQ_RELEASE_DATASET}.__TABLES__`\n",
    "\"\"\"\n",
    "bq_query(clinical_tables)"
   ]
  },
  {
   "cell_type": "markdown",
   "metadata": {},
   "source": [
    "## Clinical duplicates"
   ]
  },
  {
   "cell_type": "code",
   "execution_count": null,
   "metadata": {
    "scrolled": true
   },
   "outputs": [],
   "source": [
    "dups = f\"\"\"\n",
    "SELECT \n",
    "*\n",
    "FROM `{BQ_RELEASE_DATASET}.amp_pd_participant_wgs_duplicates`\n",
    "\"\"\"\n",
    "duplicates = bq_query(dups)"
   ]
  },
  {
   "cell_type": "markdown",
   "metadata": {},
   "source": [
    "## Covariates"
   ]
  },
  {
   "cell_type": "code",
   "execution_count": null,
   "metadata": {
    "scrolled": true
   },
   "outputs": [],
   "source": [
    "covariates = f\"\"\"\n",
    "SELECT \n",
    "participant_id, sex, age_at_baseline \n",
    "FROM `{BQ_RELEASE_DATASET}.Demographics`\n",
    "\"\"\"\n",
    "covs = bq_query(covariates)"
   ]
  },
  {
   "cell_type": "code",
   "execution_count": null,
   "metadata": {
    "scrolled": true
   },
   "outputs": [],
   "source": [
    "covs = covs.drop_duplicates()\n",
    "covsp = covs\n",
    "covsp['IID'] = covsp['participant_id']\n",
    "covsp = covsp[['participant_id', 'IID', 'sex', 'age_at_baseline']]\n",
    "covsp['sex'] = covsp['sex'].astype(str)\n",
    "covsp.sex[(covsp.sex == \"Male\")] = 1\n",
    "covsp.sex[(covsp.sex == \"Female\")] = 2\n",
    "covsp.columns = ['FID','IID', 'sex', 'age_at_baseline']"
   ]
  },
  {
   "cell_type": "markdown",
   "metadata": {},
   "source": [
    "## Phenotypes"
   ]
  },
  {
   "cell_type": "code",
   "execution_count": null,
   "metadata": {
    "scrolled": true
   },
   "outputs": [],
   "source": [
    "phenotype = f\"\"\"\n",
    "SELECT \n",
    "* \n",
    "FROM `{BQ_RELEASE_DATASET}.amp_pd_case_control`\n",
    "\"\"\"\n",
    "pheno = bq_query(phenotype)"
   ]
  },
  {
   "cell_type": "code",
   "execution_count": null,
   "metadata": {
    "scrolled": true
   },
   "outputs": [],
   "source": [
    "phenop = pheno\n",
    "phenop['IID'] = phenop['participant_id']\n",
    "phenop = phenop[['participant_id', 'IID', 'case_control_other_latest']]\n",
    "phenop.columns = ['FID','IID', 'PHENO']\n",
    "phenop = phenop[(phenop.PHENO != 'Other')]\n",
    "phenop.PHENO[(phenop.PHENO == \"Case\")] = 2\n",
    "phenop.PHENO[(phenop.PHENO == \"Control\")] = 1"
   ]
  },
  {
   "cell_type": "code",
   "execution_count": null,
   "metadata": {
    "scrolled": true
   },
   "outputs": [],
   "source": [
    "covsp.to_csv('plink_test_covs.tab', index=False, sep='\\t')\n",
    "phenop.to_csv('plink_test_pheno.tab', index=False, sep='\\t')"
   ]
  },
  {
   "cell_type": "markdown",
   "metadata": {},
   "source": [
    "# Data processing"
   ]
  },
  {
   "cell_type": "markdown",
   "metadata": {},
   "source": [
    "## Prepare PLINK"
   ]
  },
  {
   "cell_type": "code",
   "execution_count": null,
   "metadata": {
    "scrolled": true
   },
   "outputs": [],
   "source": [
    "!wget http://s3.amazonaws.com/plink1-assets/plink_linux_x86_64_20190304.zip -P ~/bin/data_temp/"
   ]
  },
  {
   "cell_type": "code",
   "execution_count": null,
   "metadata": {
    "scrolled": true
   },
   "outputs": [],
   "source": [
    "!unzip -o ~/bin/data_temp/plink_linux_x86_64_20190304.zip -d ~/bin/"
   ]
  },
  {
   "cell_type": "code",
   "execution_count": null,
   "metadata": {
    "scrolled": true
   },
   "outputs": [],
   "source": [
    "!~/bin/plink"
   ]
  },
  {
   "cell_type": "markdown",
   "metadata": {},
   "source": [
    "## Download data"
   ]
  },
  {
   "cell_type": "code",
   "execution_count": null,
   "metadata": {
    "scrolled": true
   },
   "outputs": [],
   "source": [
    "!gsutil cp gs://fc-99ee693a-0e54-48ff-8e90-34a48151bea5/notebooks/PCA_filtered_europeans.txt ."
   ]
  },
  {
   "cell_type": "code",
   "execution_count": null,
   "metadata": {
    "code_folding": [],
    "scrolled": false
   },
   "outputs": [],
   "source": [
    "!for N in `seq 22` X Y; \\\n",
    "do \\\n",
    "gsutil -mu ib2021-parkinson cp gs://amp-pd-genomics/releases/2020_v2release_1218/wgs/plink/bfile/chr${N}.* .; \\\n",
    "done   "
   ]
  },
  {
   "cell_type": "markdown",
   "metadata": {},
   "source": [
    "## Update sex"
   ]
  },
  {
   "cell_type": "code",
   "execution_count": null,
   "metadata": {
    "scrolled": false
   },
   "outputs": [],
   "source": [
    "!for N in `seq 22` X Y; \\\n",
    "do \\\n",
    "~/bin/plink \\\n",
    "--bfile chr${N} \\\n",
    "--update-sex plink_test_covs.tab \\\n",
    "--make-bed \\\n",
    "--out chr${N}_updated_sex && \\\n",
    "rm chr${N}.*; \\\n",
    "done"
   ]
  },
  {
   "cell_type": "markdown",
   "metadata": {},
   "source": [
    "## Update phenotype"
   ]
  },
  {
   "cell_type": "code",
   "execution_count": null,
   "metadata": {
    "scrolled": false
   },
   "outputs": [],
   "source": [
    "!for N in `seq 22` X Y; \\\n",
    "do \\\n",
    "~/bin/plink \\\n",
    "--bfile chr${N}_updated_sex \\\n",
    "--make-pheno plink_test_pheno.tab 2 \\\n",
    "--keep plink_test_pheno.tab \\\n",
    "--make-bed \\\n",
    "--out chr${N}_updated_pheno && \\\n",
    "rm chr${N}_updated_sex.*; \\\n",
    "done"
   ]
  },
  {
   "cell_type": "markdown",
   "metadata": {},
   "source": [
    "## Ancestry"
   ]
  },
  {
   "cell_type": "code",
   "execution_count": null,
   "metadata": {
    "scrolled": false
   },
   "outputs": [],
   "source": [
    "!for N in `seq 22` X Y; \\\n",
    "do \\\n",
    "~/bin/plink \\\n",
    "--bfile chr${N}_updated_pheno \\\n",
    "--keep PCA_filtered_europeans.txt \\\n",
    "--make-bed \\\n",
    "--out chr${N}_after_ancestry && \\\n",
    "rm chr${N}_updated_pheno.*; \\\n",
    "done"
   ]
  },
  {
   "cell_type": "markdown",
   "metadata": {},
   "source": [
    "## Relatedness"
   ]
  },
  {
   "cell_type": "code",
   "execution_count": null,
   "metadata": {
    "scrolled": false
   },
   "outputs": [],
   "source": [
    "!for N in `seq 22` X Y; \\\n",
    "do \\\n",
    "~/bin/plink --bfile chr${N}_after_ancestry --geno 0.05 --maf 0.05 --indep-pairwise 50 5 0.5 --out chr${N}_pruning && \\\n",
    "~/bin/plink --bfile chr${N}_after_ancestry --extract chr${N}_pruning.prune.in --make-bed --out chr${N}_pruned_data && \\\n",
    "~/bin/plink --bfile chr${N}_pruned_data --het --out chr${N}_prunedHet; \\\n",
    "done"
   ]
  },
  {
   "cell_type": "code",
   "execution_count": null,
   "metadata": {
    "scrolled": true
   },
   "outputs": [],
   "source": [
    "!wget https://cnsgenomics.com/software/gcta/bin/gcta_1.93.2beta.zip -P ~/bin/data_temp"
   ]
  },
  {
   "cell_type": "code",
   "execution_count": null,
   "metadata": {
    "scrolled": true
   },
   "outputs": [],
   "source": [
    "!unzip -o ~/bin/data_temp/gcta_1.93.2beta.zip -d ~/bin/"
   ]
  },
  {
   "cell_type": "code",
   "execution_count": null,
   "metadata": {
    "scrolled": true
   },
   "outputs": [],
   "source": [
    "!~/bin/gcta_1.93.2beta/gcta64"
   ]
  },
  {
   "cell_type": "code",
   "execution_count": null,
   "metadata": {
    "scrolled": true
   },
   "outputs": [],
   "source": [
    "!ls chr*_pruned_data* | cut -d . -f 1 | sort -u > pruned_files_list"
   ]
  },
  {
   "cell_type": "code",
   "execution_count": null,
   "metadata": {
    "scrolled": false
   },
   "outputs": [],
   "source": [
    "!~/bin/gcta_1.93.2beta/gcta64 --mbfile pruned_files_list --make-grm --out GRM_matrix --autosome --maf 0.05"
   ]
  },
  {
   "cell_type": "code",
   "execution_count": null,
   "metadata": {
    "scrolled": false
   },
   "outputs": [],
   "source": [
    "!~/bin/gcta_1.93.2beta/gcta64 --grm-cutoff 0.125 --grm GRM_matrix --out GRM_matrix_0125 --make-grm"
   ]
  },
  {
   "cell_type": "code",
   "execution_count": null,
   "metadata": {
    "scrolled": false
   },
   "outputs": [],
   "source": [
    "!for N in `seq 22` X Y; \\\n",
    "do \\\n",
    "~/bin/plink \\\n",
    "--bfile chr${N}_after_ancestry \\\n",
    "--keep GRM_matrix_0125.grm.id \\\n",
    "--make-bed \\\n",
    "--out chr${N}_after_ancestry_pihat && \\\n",
    "rm chr${N}_after_ancestry.* chr${N}_pruning.* chr${N}_pruned_data.* chr${N}_prunedHet.*; \\\n",
    "done"
   ]
  },
  {
   "cell_type": "code",
   "execution_count": null,
   "metadata": {
    "scrolled": true
   },
   "outputs": [],
   "source": [
    "!rm GRM_matrix_0125.* GRM_matrix.* pruned_files_list"
   ]
  },
  {
   "cell_type": "markdown",
   "metadata": {},
   "source": [
    "## Missingness per variant"
   ]
  },
  {
   "cell_type": "code",
   "execution_count": null,
   "metadata": {
    "scrolled": false
   },
   "outputs": [],
   "source": [
    "!for N in `seq 22` X Y; \\\n",
    "do \\\n",
    "~/bin/plink \\\n",
    "--bfile chr${N}_after_ancestry_pihat \\\n",
    "--make-bed \\\n",
    "--out chr${N}_after_ancestry_pihat_mind \\\n",
    "--geno 0.05 && \\\n",
    "rm chr${N}_after_ancestry_pihat.*; \\\n",
    "done"
   ]
  },
  {
   "cell_type": "markdown",
   "metadata": {},
   "source": [
    "## Missingness by haplotype"
   ]
  },
  {
   "cell_type": "code",
   "execution_count": null,
   "metadata": {
    "scrolled": true
   },
   "outputs": [],
   "source": [
    "!for N in `seq 22` X Y; \\\n",
    "do \\\n",
    "~/bin/plink --bfile chr${N}_after_ancestry_pihat_mind_missing1 --test-mishap --out chr${N}_missing_hap && \\\n",
    "awk '{if ($8 <= 0.0001) print $9 }' chr${N}_missing_hap.missing.hap > chr${N}_missing_haps_1E4.txt && \\\n",
    "sed 's/|/\\\n",
    "/g' chr${N}_missing_haps_1E4.txt > chr${N}_missing_haps_1E4_final.txt && \\\n",
    "~/bin/plink \\\n",
    "--bfile chr${N}_after_ancestry_pihat_mind_missing1 \\\n",
    "--exclude chr${N}_missing_haps_1E4_final.txt \\\n",
    "--make-bed \\\n",
    "--out chr${N}_after_ancestry_pihat_mind_missing2 && \\\n",
    "rm chr${N}_after_ancestry_pihat_mind_missing1.* chr${N}_missing_hap.* chr${N}_missing_haps_1E4.txt chr${N}_missing_haps_1E4_final.txt; \\\n",
    "done"
   ]
  },
  {
   "cell_type": "markdown",
   "metadata": {},
   "source": [
    "## HWE"
   ]
  },
  {
   "cell_type": "code",
   "execution_count": null,
   "metadata": {
    "scrolled": true
   },
   "outputs": [],
   "source": [
    "!for N in `seq 22` X Y; \\\n",
    "do \\\n",
    "~/bin/plink \\\n",
    "--bfile chr${N}_after_ancestry_pihat_mind_missing2 \\\n",
    "--filter-controls \\\n",
    "--hwe 1E-4 \\\n",
    "--write-snplist \\\n",
    "--out chr${N}_HWE_snps && \\\n",
    "~/bin/plink \\\n",
    "--bfile chr${N}_after_ancestry_pihat_mind_missing2 \\\n",
    "--extract chr${N}_HWE_snps.snplist \\\n",
    "--make-bed \\\n",
    "--out chr${N}_FILTERED && \\\n",
    "rm chr${N}_HWE_snps.* chr${N}_after_ancestry_pihat_mind_missing2.*; \\\n",
    "done"
   ]
  },
  {
   "cell_type": "markdown",
   "metadata": {},
   "source": [
    "## Filter sepcific cohorts"
   ]
  },
  {
   "cell_type": "code",
   "execution_count": null,
   "metadata": {},
   "outputs": [],
   "source": [
    "cohort_participiant_id = f\"\"\"\n",
    "SELECT DISTINCT t1.participant_id \n",
    "FROM ((SELECT participant_id FROM `amp-pd-research.2020_v2release_1218.amp_pd_case_control` \n",
    "WHERE (diagnosis_latest = \"No PD Nor Other Neurological Disorder\") \n",
    "OR (diagnosis_latest = \"Parkinson's Disease\") \n",
    "OR (diagnosis_latest = \"Idiopathic PD\"))) \n",
    "t1 INNER JOIN ((SELECT participant_id \n",
    "FROM `amp-pd-research.2020_v2release_1218_genomics.wgs_samples` \n",
    "WHERE (CRAM IS NOT NULL))) t2 ON t1.participant_id = t2.participant_id \n",
    "INNER JOIN ((SELECT participant_id \n",
    "FROM `amp-pd-research.2020_v2release_1218.amp_pd_participants` \n",
    "WHERE (study = \"LBD\") \n",
    "OR (study = \"PPMI\") \n",
    "OR (study = \"PDBP\") \n",
    "OR (study = \"HBS\") \n",
    "OR (study = \"BioFIND\"))) \n",
    "t3 ON t2.participant_id = t3.participant_id\n",
    "\"\"\"\n",
    "cohort = bq_query(cohort_participiant_id)"
   ]
  },
  {
   "cell_type": "code",
   "execution_count": null,
   "metadata": {},
   "outputs": [],
   "source": [
    "cohort.columns = ['FID']\n",
    "cohort['IID'] = cohort['FID']\n",
    "cohort.to_csv(os.environ['GENE_NAME'] + '/no_LBD_cohort.tsv', index=False, sep='\\t')"
   ]
  },
  {
   "cell_type": "markdown",
   "metadata": {},
   "source": [
    "## Download Annovar, rvtests and supplementary files"
   ]
  },
  {
   "cell_type": "code",
   "execution_count": null,
   "metadata": {
    "scrolled": true
   },
   "outputs": [],
   "source": [
    "!wget http://www.openbioinformatics.org/annovar/download/0wgxR2rIVP/annovar.latest.tar.gz"
   ]
  },
  {
   "cell_type": "code",
   "execution_count": null,
   "metadata": {
    "scrolled": false
   },
   "outputs": [],
   "source": [
    "!tar xvf annovar.latest.tar.gz"
   ]
  },
  {
   "cell_type": "code",
   "execution_count": null,
   "metadata": {
    "scrolled": true
   },
   "outputs": [],
   "source": [
    "!perl annovar/annotate_variation.pl -buildver hg38 -downdb -webfrom annovar refGene annovar/humandb/\n",
    "!perl annovar/annotate_variation.pl -buildver hg38 -downdb cytoBand annovar/humandb/\n",
    "!perl annovar/annotate_variation.pl -buildver hg38 -downdb -webfrom annovar ensGene annovar/humandb/\n",
    "!perl annovar/annotate_variation.pl -buildver hg38 -downdb -webfrom annovar exac03 annovar/humandb/ \n",
    "!perl annovar/annotate_variation.pl -buildver hg38 -downdb -webfrom annovar avsnp150 annovar/humandb/ \n",
    "!perl annovar/annotate_variation.pl -buildver hg38 -downdb -webfrom annovar dbnsfp41c annovar/humandb/\n",
    "!perl annovar/annotate_variation.pl -buildver hg38 -downdb -webfrom annovar gnomad211_genome annovar/humandb/\n",
    "!perl annovar/annotate_variation.pl -buildver hg38 -downdb -webfrom annovar ljb26_all annovar/humandb/\n",
    "!perl annovar/annotate_variation.pl -buildver hg38 -downdb -webfrom annovar clinvar_20210501 annovar/humandb/"
   ]
  },
  {
   "cell_type": "code",
   "execution_count": null,
   "metadata": {
    "scrolled": true
   },
   "outputs": [],
   "source": [
    "!wget -q https://github.com/zhanxw/rvtests/releases/download/v2.1.0/rvtests_linux64.tar.gz -P ~/bin/"
   ]
  },
  {
   "cell_type": "code",
   "execution_count": null,
   "metadata": {},
   "outputs": [],
   "source": [
    "!mkdir ~/bin/rvtests\n",
    "!tar xvf ~/bin/rvtests_linux64.tar.gz -C ~/bin/rvtests"
   ]
  },
  {
   "cell_type": "code",
   "execution_count": null,
   "metadata": {
    "scrolled": true
   },
   "outputs": [],
   "source": [
    "!~/bin/rvtests/executable/rvtest"
   ]
  },
  {
   "cell_type": "code",
   "execution_count": null,
   "metadata": {
    "scrolled": true
   },
   "outputs": [],
   "source": [
    "!wget http://hgdownload.cse.ucsc.edu/goldenPath/hg38/database/refFlat.txt.gz\n",
    "!gunzip refFlat.txt.gz"
   ]
  },
  {
   "cell_type": "code",
   "execution_count": null,
   "metadata": {},
   "outputs": [],
   "source": [
    "!gsutil cp gs://fc-99ee693a-0e54-48ff-8e90-34a48151bea5/notebooks/create_cov_file.R ."
   ]
  },
  {
   "cell_type": "markdown",
   "metadata": {},
   "source": [
    "## Annotate list of genes"
   ]
  },
  {
   "cell_type": "code",
   "execution_count": null,
   "metadata": {},
   "outputs": [],
   "source": [
    "!genes=\"GALC,14,87837820,87993665 \"`\\\n",
    "      `\"SORL1,11,121452314,121633763 \"` \\\n",
    "      `\"ARSA,22,50622754,50628173 \"` \\\n",
    "      `\"GRN,17,44345246,44353106 \"` \\\n",
    "      `\"CTCB,8,11842524,11869448 \"` \\\n",
    "      `\"SCARB2,4,76158737,76234536 \"` \\\n",
    "      `\"FUCA1,1,23845077,23868290 \"` \\\n",
    "      `\"CTSD,11,1752755,1764573 \"` \\\n",
    "      `\"GBA2,9,35736866,35749228\" && \\\n",
    "for gene in $genes;\\\n",
    "do \\\n",
    "GENE_NAME=`echo $gene | cut -d ',' -f 1` && \\\n",
    "CHR_N=`echo $gene | cut -d ',' -f 2` && \\\n",
    "START=`echo $gene | cut -d ',' -f 3` && \\\n",
    "END=`echo $gene | cut -d ',' -f 4` && \\\n",
    "mkdir -p ${GENE_NAME}/ && \\\n",
    "cp no_LBD_cohort.tsv ${GENE_NAME}/no_LBD_cohort.tsv && \\\n",
    "~/bin/plink \\\n",
    "--bfile chr${CHR_N}_FILTERED \\\n",
    "--chr $CHR_N \\\n",
    "--from-bp $START \\\n",
    "--keep ${GENE_NAME}/no_LBD_cohort.tsv \\\n",
    "--to-bp $END \\\n",
    "--make-bed \\\n",
    "--out ${GENE_NAME}/chr${CHR_N}_${GENE_NAME} && \\\n",
    "~/bin/plink \\\n",
    "--bfile ${GENE_NAME}/chr${CHR_N}_${GENE_NAME} \\\n",
    "--recode vcf-fid bgz \\\n",
    "--out ${GENE_NAME}/chr${CHR_N}_${GENE_NAME}_recode && \\\n",
    "tabix -f -p vcf ${GENE_NAME}/chr${CHR_N}_${GENE_NAME}_recode.vcf.gz && \\\n",
    "perl annovar/convert2annovar.pl \\\n",
    "--format vcf4 \\\n",
    "--allsample \\\n",
    "--withfreq ${GENE_NAME}/chr${CHR_N}_${GENE_NAME}_recode.vcf.gz \\\n",
    "--outfile ${GENE_NAME}/chr${CHR_N}_${GENE_NAME}_recode_convert && \\\n",
    "perl annovar/table_annovar.pl \\\n",
    "${GENE_NAME}/chr${CHR_N}_${GENE_NAME}_recode_convert \\\n",
    "annovar/humandb/ \\\n",
    "--buildver hg38 \\\n",
    "--thread `nproc` \\\n",
    "--out ${GENE_NAME}/chr${CHR_N}_${GENE_NAME}_recode_convert.annovar \\\n",
    "--remove \\\n",
    "--protocol refGene,cytoBand,ensGene,exac03,avsnp150,dbnsfp41c,ljb26_all,gnomad211_genome,clinvar_20210501 \\\n",
    "--operation g,r,g,f,f,f,f,f,f \\\n",
    "--nastring . && \\\n",
    "head -1 ${GENE_NAME}/chr${CHR_N}_${GENE_NAME}_recode_convert.annovar.hg38_multianno.txt \\\n",
    "> ${GENE_NAME}/chr${CHR_N}_${GENE_NAME}_header.txt && \\\n",
    "colct=\"$(wc -w ${GENE_NAME}/chr${CHR_N}_${GENE_NAME}_header.txt | cut -f1 -d ' ')\" && \\\n",
    "cut -f1-$colct ${GENE_NAME}/chr${CHR_N}_${GENE_NAME}_recode_convert.annovar.hg38_multianno.txt \\\n",
    "> ${GENE_NAME}/chr${CHR_N}_${GENE_NAME}_recode_convert.annovar.trimmed.txt && \\\n",
    "Rscript --no-save create_cov_file.R ${GENE_NAME}/chr${CHR_N}_${GENE_NAME}.fam \\\n",
    "${GENE_NAME}/chr${CHR_N}_${GENE_NAME}_covariateFile.txt && \\\n",
    "~/bin/rvtests/executable/rvtest \\\n",
    "--noweb \\\n",
    "--inVcf ${GENE_NAME}/chr${CHR_N}_${GENE_NAME}_recode.vcf.gz \\\n",
    "--kernel skat,skato \\\n",
    "--geneFile refFlat.txt \\\n",
    "--pheno ${GENE_NAME}/chr${CHR_N}_${GENE_NAME}_covariateFile.txt \\\n",
    "--pheno-name PHENO \\\n",
    "--covar ${GENE_NAME}/chr${CHR_N}_${GENE_NAME}_covariateFile.txt \\\n",
    "--covar-name SEX,AGE \\\n",
    "--out ${GENE_NAME}/chr${CHR_N}_${GENE_NAME}.all_rare \\\n",
    "--numThread `nproc` \\\n",
    "--freqUpper 0.01 && \\\n",
    "awk '$9 ~ /nonsyn/ {print $1\" \"$2\" \"$2\" \"$7}' ${GENE_NAME}/chr${CHR_N}_${GENE_NAME}_recode_convert.annovar.trimmed.txt \\\n",
    "> ${GENE_NAME}/chr${CHR_N}_${GENE_NAME}.all_coding_NS.txt && \\\n",
    "~/bin/plink \\\n",
    "--bfile ${GENE_NAME}/chr${CHR_N}_${GENE_NAME} \\\n",
    "--extract range ${GENE_NAME}/chr${CHR_N}_${GENE_NAME}.all_coding_NS.txt \\\n",
    "--recode vcf-fid bgz \\\n",
    "--out ${GENE_NAME}/chr${CHR_N}_${GENE_NAME}.all_coding_NS && \\\n",
    "tabix -f -p vcf ${GENE_NAME}/chr${CHR_N}_${GENE_NAME}.all_coding_NS.vcf.gz && \\\n",
    "~/bin/rvtests/executable/rvtest \\\n",
    "--noweb \\\n",
    "--inVcf ${GENE_NAME}/chr${CHR_N}_${GENE_NAME}.all_coding_NS.vcf.gz \\\n",
    "--kernel skat,skato \\\n",
    "--geneFile refFlat.txt \\\n",
    "--pheno ${GENE_NAME}/chr${CHR_N}_${GENE_NAME}_covariateFile.txt \\\n",
    "--pheno-name PHENO \\\n",
    "--covar ${GENE_NAME}/chr${CHR_N}_${GENE_NAME}_covariateFile.txt \\\n",
    "--covar-name SEX,AGE \\\n",
    "--out ${GENE_NAME}/chr${CHR_N}_${GENE_NAME}.all_coding_NS \\\n",
    "--numThread `nproc` \\\n",
    "--freqUpper 0.01 && \\\n",
    "awk '$9 ~ /nonsyn/ || $6 ~ /^splicing$/ || $9 ~ /stop/ || $9 ~ /frame/ {print $1\" \"$2\" \"$2\" \"$7}' \\\n",
    "${GENE_NAME}/chr${CHR_N}_${GENE_NAME}_recode_convert.annovar.trimmed.txt > ${GENE_NAME}/chr${CHR_N}_${GENE_NAME}.all_functional.txt && \\\n",
    "~/bin/plink \\\n",
    "--bfile ${GENE_NAME}/chr${CHR_N}_${GENE_NAME} \\\n",
    "--extract range ${GENE_NAME}/chr${CHR_N}_${GENE_NAME}.all_functional.txt \\\n",
    "--recode vcf-fid bgz \\\n",
    "--out ${GENE_NAME}/chr${CHR_N}_${GENE_NAME}.all_functional && \\\n",
    "tabix -f -p vcf ${GENE_NAME}/chr${CHR_N}_${GENE_NAME}.all_functional.vcf.gz && \\\n",
    "~/bin/rvtests/executable/rvtest \\\n",
    "--noweb \\\n",
    "--inVcf ${GENE_NAME}/chr${CHR_N}_${GENE_NAME}.all_functional.vcf.gz \\\n",
    "--kernel skat,skato \\\n",
    "--geneFile refFlat.txt \\\n",
    "--pheno ${GENE_NAME}/chr${CHR_N}_${GENE_NAME}_covariateFile.txt \\\n",
    "--pheno-name PHENO \\\n",
    "--covar ${GENE_NAME}/chr${CHR_N}_${GENE_NAME}_covariateFile.txt \\\n",
    "--covar-name SEX,AGE \\\n",
    "--out ${GENE_NAME}/chr${CHR_N}_${GENE_NAME}.all_functional \\\n",
    "--numThread `nproc` \\\n",
    "--freqUpper 0.01 && \\\n",
    "awk 'NR>1 && $31 > 12.37 {print $1\" \"$2\" \"$2\" \"$7}' \\\n",
    "${GENE_NAME}/chr${CHR_N}_${GENE_NAME}_recode_convert.annovar.trimmed.txt > ${GENE_NAME}/chr${CHR_N}_${GENE_NAME}.CADD.txt && \\\n",
    "~/bin/plink \\\n",
    "--bfile ${GENE_NAME}/chr${CHR_N}_${GENE_NAME} \\\n",
    "--extract range ${GENE_NAME}/chr${CHR_N}_${GENE_NAME}.CADD.txt \\\n",
    "--recode vcf-fid bgz \\\n",
    "--out ${GENE_NAME}/chr${CHR_N}_${GENE_NAME}.CADD && \\\n",
    "tabix -f -p vcf ${GENE_NAME}/chr${CHR_N}_${GENE_NAME}.CADD.vcf.gz && \\\n",
    "~/bin/rvtests/executable/rvtest \\\n",
    "--noweb \\\n",
    "--inVcf ${GENE_NAME}/chr${CHR_N}_${GENE_NAME}.CADD.vcf.gz \\\n",
    "--kernel skat,skato \\\n",
    "--geneFile refFlat.txt \\\n",
    "--pheno ${GENE_NAME}/chr${CHR_N}_${GENE_NAME}_covariateFile.txt \\\n",
    "--pheno-name PHENO \\\n",
    "--covar ${GENE_NAME}/chr${CHR_N}_${GENE_NAME}_covariateFile.txt \\\n",
    "--covar-name SEX,AGE \\\n",
    "--out ${GENE_NAME}/chr${CHR_N}_${GENE_NAME}.CADD \\\n",
    "--numThread `nproc` \\\n",
    "--freqUpper 0.01; \\\n",
    "done >list_genes.log 2>&1"
   ]
  }
 ],
 "metadata": {
  "kernelspec": {
   "display_name": "Python 3",
   "language": "python",
   "name": "python3"
  },
  "language_info": {
   "codemirror_mode": {
    "name": "ipython",
    "version": 3
   },
   "file_extension": ".py",
   "mimetype": "text/x-python",
   "name": "python",
   "nbconvert_exporter": "python",
   "pygments_lexer": "ipython3",
   "version": "3.8.5"
  },
  "toc": {
   "base_numbering": 1,
   "nav_menu": {},
   "number_sections": true,
   "sideBar": true,
   "skip_h1_title": false,
   "title_cell": "Table of Contents",
   "title_sidebar": "Contents",
   "toc_cell": false,
   "toc_position": {
    "height": "738px",
    "left": "31px",
    "top": "110px",
    "width": "368px"
   },
   "toc_section_display": true,
   "toc_window_display": true
  }
 },
 "nbformat": 4,
 "nbformat_minor": 2
}